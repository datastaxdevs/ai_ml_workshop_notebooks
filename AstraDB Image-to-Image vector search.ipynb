{
  "cells": [
    {
      "cell_type": "markdown",
      "metadata": {
        "id": "ZFIzdcgGejWy"
      },
      "source": [
        "# Welcome\n",
        "Let's learn some vector search!\n"
      ]
    },
    {
      "cell_type": "markdown",
      "metadata": {
        "id": "dcJA1DsRzeWB"
      },
      "source": [
        "# Image to Image search\n",
        "\n",
        "Let's do something more interesting with vector search.\n",
        "\n",
        "In the following section we are going to build and image-to-image search based on:\n",
        "\n",
        "* a public image model (ViT)\n",
        "* a publicly available image dataset\n",
        "* AstraDB's vectorDB\n",
        "\n",
        "We will:\n",
        "\n",
        "1. setup our environment\n",
        "1. download an image dataset\n",
        "1. normalize all the photos from our dataset\n",
        "1. process them to extract a vector\n",
        "1. Add them to a table in our vector db\n",
        "1. Use a fresh image to search our db for similar pictures\n",
        "\n",
        "\n",
        "\n",
        "<img src=\"https://raw.githubusercontent.com/datastaxdevs/ai_ml_workshop_notebooks/main/Vector%20Search.png\"/>"
      ]
    },
    {
      "cell_type": "markdown",
      "metadata": {
        "id": "ctiEfMgwDJ2S"
      },
      "source": [
        "## Setup our environment\n",
        "\n",
        "**timm** is used to download existing models from Huggingface.co\n",
        "\n",
        "**datasets** and **datasets[vision]** are used to download example datasets from huggingface. After we are done here, why not pick a different dataset and try it for yourself? [This section of the huggingface shared datasets](https://huggingface.co/datasets?task_categories=task_categories:image-classification&sort=downloads) is a good place to start.\n",
        "\n",
        "**cassandra-driver** will be used to store and query our embeddings in AstraDB.\n",
        "\n",
        "**ipyplot** will be used to maker our search display a little nicer here.\n",
        "\n",
        "**torchvision** will be used to process images and normalizet them.\n",
        "\n",
        "**PIL** will be used to load images and display them in this workbook.\n",
        "\n",
        "**imagenet_labels** will be used to demonstrate image classification with the ViT model."
      ]
    },
    {
      "cell_type": "code",
      "execution_count": 5,
      "metadata": {
        "id": "vqo_dm1_3IaU"
      },
      "outputs": [],
      "source": [
        "%%capture\n",
        "\n",
        "!pip install timm\n",
        "!pip install datasets\n",
        "!pip install datasets[vision]\n",
        "!pip install cassandra-driver\n",
        "!pip install ipywidgets\n",
        "!pip install ipyplot\n",
        "\n",
        "import torch\n",
        "\n",
        "import torchvision\n",
        "import torchvision.transforms as T\n",
        "\n",
        "import PIL\n",
        "import ipyplot\n",
        "\n",
        "from timm import create_model\n",
        "\n",
        "# ImageNet Labels - only needed for showing of image categorization/ViT vector internals\n",
        "!wget https://storage.googleapis.com/bit_models/ilsvrc2012_wordnet_lemmas.txt\n",
        "imagenet_labels = dict(enumerate(open('ilsvrc2012_wordnet_lemmas.txt')))\n",
        "\n"
      ]
    },
    {
      "cell_type": "markdown",
      "metadata": {
        "id": "x5fqFRZjeshS"
      },
      "source": [
        "### Setup our AstraDB Connection\n",
        "\n",
        "1. If you haven't, please [create an AstraDB instance with vector enabled](https://docs.datastax.com/en/astra-serverless/docs/vector-search/overview.html).\n",
        "\n",
        "1. [Download a copy of your secure connect bundle](https://docs.datastax.com/en/astra-serverless/docs/connect/secure-connect-bundle.html). Then Upload your secure connect bundle to this space by using the file tab.\n",
        "\n",
        "1. [Create a token for a 'Database Administrator' account](https://docs.datastax.com/en/astra-serverless/docs/manage/org/managing-org.html#_manage_application_tokens), you'll need to be able to create tables and read write data as we go along.\n",
        "\n"
      ]
    },
    {
      "cell_type": "code",
      "execution_count": null,
      "metadata": {
        "id": "R9f3frbIdOb9"
      },
      "outputs": [],
      "source": [
        "# Replace these values with the path to your secure connect bundle and the database credentials\n",
        "SECURE_CONNECT_BUNDLE_PATH = '/content/secure-connect-vector-search-db.zip'\n",
        "ASTRA_CLIENT_ID = '' #@param {type:\"string\"}\n",
        "ASTRA_CLIENT_SECRET = '' #@param {type:\"string\"}\n",
        "\n",
        "\n",
        "import os\n",
        "import pandas as pd #just using this for ipy output formating\n",
        "from cassandra.cluster import Cluster\n",
        "from cassandra.auth import PlainTextAuthProvider\n",
        "from cassandra import ConsistencyLevel\n",
        "from cassandra.query import dict_factory\n",
        "\n",
        "cloud_config = {\n",
        "   'secure_connect_bundle': SECURE_CONNECT_BUNDLE_PATH\n",
        "}\n",
        "auth_provider = PlainTextAuthProvider(ASTRA_CLIENT_ID, ASTRA_CLIENT_SECRET)\n",
        "cluster = Cluster(cloud=cloud_config, auth_provider=auth_provider, protocol_version=4)\n",
        "session = cluster.connect()\n"
      ]
    },
    {
      "cell_type": "markdown",
      "source": [
        "## The Data"
      ],
      "metadata": {
        "id": "P7sK5WqJqrIf"
      }
    },
    {
      "cell_type": "markdown",
      "metadata": {
        "id": "QRoPSwkjGfSf"
      },
      "source": [
        "### Setup our data\n",
        "\n",
        "[Explore the dataset here](https://huggingface.co/datasets/Matthijs/snacks/viewer/default/train)\n",
        "\n",
        "\n",
        "Want to try with another dataset? It should be as easy as making sure that dataset has an \"image\" property that we can load.\n",
        "\n",
        "If it's hosted on huggingface, you can also just change the string below to load it. (like docker, but data!)"
      ]
    },
    {
      "cell_type": "code",
      "execution_count": null,
      "metadata": {
        "id": "oE73NBsPBJAI"
      },
      "outputs": [],
      "source": [
        "from datasets import load_dataset, Image\n",
        "\n",
        "dataset = load_dataset(\"Matthijs/snacks\")"
      ]
    },
    {
      "cell_type": "markdown",
      "metadata": {
        "id": "G7ZgjaZLG78i"
      },
      "source": [
        "### Normalize our data\n",
        "\n",
        "It's important that our images are formatted similarly for most models if we hope to compare our apples to our oranges.\n",
        "\n",
        "These steps setup a pipeline to resize images, convert them to a tensor to feed to our model, and normalize that tensor."
      ]
    },
    {
      "cell_type": "code",
      "execution_count": null,
      "metadata": {
        "id": "w1yuBeUkBMP-"
      },
      "outputs": [],
      "source": [
        "# Define transforms for test\n",
        "IMG_SIZE = (224, 224)\n",
        "NORMALIZE_MEAN = (0.5, 0.5, 0.5)\n",
        "NORMALIZE_STD = (0.5, 0.5, 0.5)\n",
        "transforms = [\n",
        "              T.Resize(IMG_SIZE),\n",
        "              T.ToTensor(),\n",
        "              T.Normalize(NORMALIZE_MEAN, NORMALIZE_STD),\n",
        "              ]\n",
        "\n",
        "transforms = T.Compose(transforms)\n",
        "\n",
        "def ds_transforms(examples):\n",
        "    examples[\"pixel_values\"] = [transforms(image) for image in examples[\"image\"]]\n",
        "    return examples\n",
        "\n",
        "dataset = dataset.with_transform(ds_transforms)"
      ]
    },
    {
      "cell_type": "markdown",
      "metadata": {
        "id": "rSY5ggjxHSVN"
      },
      "source": [
        "### Look at our dataset\n",
        "\n",
        "Let's also look at a row from the dataset that we have downloaded. Notice that our transforms have run and we now have a pixel_values field with a normalized and version of our image ready for processing."
      ]
    },
    {
      "cell_type": "code",
      "execution_count": null,
      "metadata": {
        "id": "nqx_9L0LB9h7"
      },
      "outputs": [],
      "source": [
        "i = dataset[\"train\"][10]\n",
        "print(\"an image from the dataset\")\n",
        "display(i)"
      ]
    },
    {
      "cell_type": "markdown",
      "metadata": {
        "id": "AMw1yQ01E59W"
      },
      "source": [
        "## The Model\n",
        "\n",
        "Let's grab a public model to handle creating vectors from our images. I'm using \"vit_base_patch16_224\" but there are lots of options.\n",
        "\n",
        "A couple things to keep in mind as you pick pre-existing models\n",
        "* Do any models work for your task before any additional training?\n",
        "* How do the models perform, is a faster but less effective model good enough?\n",
        "\n",
        "We are also setting up the GPU for use if it's available. Currently, most models really want a GPU to perform reasonabily. That may change in the near-ish future.\n",
        "\n",
        "Lastly. we grab a copy of the pretrained model and then load it into our GPU (if available)."
      ]
    },
    {
      "cell_type": "code",
      "execution_count": null,
      "metadata": {
        "id": "4v4kxUAy5EZ9"
      },
      "outputs": [],
      "source": [
        "model_name = \"vit_base_patch16_224\"\n",
        "device = 'cuda' if torch.cuda.is_available() else 'cpu'\n",
        "print(\"device = \", device)\n",
        "# create a ViT model : https://github.com/rwightman/pytorch-image-models/blob/master/timm/models/vision_transformer.py\n",
        "model = create_model(model_name, pretrained=True).to(device)"
      ]
    },
    {
      "cell_type": "markdown",
      "source": [
        "## Data + Model = Embeddings Vector"
      ],
      "metadata": {
        "id": "5XzuMg4ArUn_"
      }
    },
    {
      "cell_type": "markdown",
      "source": [
        "### Inspecting the Model output"
      ],
      "metadata": {
        "id": "K_VnnsnGrhFq"
      }
    },
    {
      "cell_type": "markdown",
      "metadata": {
        "id": "16PxGBuXYfhD"
      },
      "source": [
        "The following code loads an entry from the training data, uploads it's image data to our GPU and then runs our model on it.\n",
        "\n",
        "VOILA! We have a vector! (though we are still calling it a tensor)\n",
        "\n"
      ]
    },
    {
      "cell_type": "code",
      "execution_count": null,
      "metadata": {
        "id": "xD9p1suuYXVq"
      },
      "outputs": [],
      "source": [
        "img_tensor = i[\"pixel_values\"].unsqueeze(0).to(device)\n",
        "output = model(img_tensor)\n",
        "output"
      ]
    },
    {
      "cell_type": "markdown",
      "metadata": {
        "id": "-jPvE2B5YllH"
      },
      "source": [
        "### What's in an embedding?\n",
        "\n",
        "Short answer? It depends. But it's not the original content.\n",
        "\n",
        "The vector our model creates depends entirely on the model. The goal is to create a vector where each dimension is independent of the others, and all the dimensions are normalized.\n",
        "\n",
        "Our ViT model is actually relatively easy to understand. It was trained on millions of images that had been categorized using labels from Imagenet.\n",
        "\n",
        "In fact, this model was designed for image classification. To classify the image all we have to do is find the largest value of the vector and look up it's index in the image net label set.  (If you have run the steps leading up to this one, you should see the image net data in your content directory)."
      ]
    },
    {
      "cell_type": "code",
      "source": [
        "\n",
        "def cats_for_vector(vector):\n",
        "  # copy our vector out of VRAM so we can play with it\n",
        "  vector = vector.detach().cpu()\n",
        "  # Find the indexes for the top 5 values in the array\n",
        "  cats = torch.topk(vector, 5)[1].numpy()[0]\n",
        "  results = []\n",
        "  for c in cats:\n",
        "    results.append([c, imagenet_labels[c], float(vector[0][c])])\n",
        "  return results\n",
        "\n",
        "\n",
        "image_index = 10\n",
        "img = dataset[\"train\"][image_index]\n",
        "img_tensor = img[\"pixel_values\"].unsqueeze(0).to(device)\n",
        "output = model(img_tensor)\n",
        "display(img[\"image\"])\n",
        "pd.DataFrame(cats_for_vector(output), columns=[\"cat number\", \"category\", \"strength\"])"
      ],
      "metadata": {
        "id": "qZ_JEzjZseq4"
      },
      "execution_count": null,
      "outputs": []
    },
    {
      "cell_type": "markdown",
      "metadata": {
        "id": "YajzvevMItYH"
      },
      "source": [
        "### Inference - getting the embeddings for our data\n",
        "\n",
        "Below we are going to embed the vector/tensor result from the model into our dataset.\n",
        "\n",
        "NOTE: We also create an index for each row in the dataset. That index is used to get back image data after our search. In the real world your data would probably already have some sort of unique id and this approach to id generation would never be a good idea."
      ]
    },
    {
      "cell_type": "code",
      "execution_count": null,
      "metadata": {
        "colab": {
          "base_uri": "https://localhost:8080/",
          "height": 17,
          "referenced_widgets": [
            "913bad51c8fe4edc8208527a7335aeb4",
            "93a6333ad8754ed4bcc3a7c5d343483a",
            "23db01edb6ea41e093f7d2609b8a4b08",
            "44c6a9f4b6dc438e8b28f9d7c07f3ec4",
            "269d11c877944733b1849726527efe4f",
            "f582d18d1c954eba86b7fb6c061254fa",
            "724f0b134b384283978de7fe37b55321",
            "5873ea97b0b9481f97cdac790eaad28f",
            "061fa93251854196bc1dcec11ca4862d",
            "53a2c12ef66640f394a30d8bd5feecbf",
            "7f330b7e21b845e5be19f9b04aa5a129",
            "e06413c2e35b4042b0bf750de2f1ed1b",
            "596dfbcf4c2342599ba2be4e9e7f361b",
            "785f072742e94dc3a7f59ce3da1ddcdd",
            "ea51ef4ea6af4cd78241d4345e0bded1",
            "4160850600f74231b9acd9c424fa1e60",
            "3098780cb4c348e0a00bcf739316fe9b",
            "c11169fe911a4e9d9e8fa63d942955c5",
            "99a75e2e28e341d5860b54f4a7b91771",
            "769b18a9d51341dc950f53871d6af085",
            "2f2c6d02cf974db6abeab9d8781256a7",
            "e67e6576faf3477fba118d9de8932023",
            "2b9c996bd47a4cc6aa8ccb3dd72dec52",
            "60660805538043c3ad2f8eaaaa17aa0e",
            "00b1fc23bedf4e1f983f56ceccc9c148",
            "2b7aa88ffc1d47d89237c469833e8ad2",
            "40a2328c2176437a80b038a44eeb588e",
            "c177f88508ae48bc9d5b11bd35b8e19a",
            "b04b00e8ce56498a8989c3702c4f98d4",
            "8e99124e4eeb44afb9355c24e0406fba",
            "1347d234e4c04ee887a4e446ed4e46a1",
            "da5f298b8e72402b9b9e47d69245375f",
            "80737d74db254139b6183b3e2dfb99f9"
          ]
        },
        "id": "OOSuERSpFr1F",
        "outputId": "41ee1a58-2158-4df9-eb1d-2112854bfcc5"
      },
      "outputs": [
        {
          "output_type": "display_data",
          "data": {
            "text/plain": [
              "Map:   0%|          | 0/4838 [00:00<?, ? examples/s]"
            ],
            "application/vnd.jupyter.widget-view+json": {
              "version_major": 2,
              "version_minor": 0,
              "model_id": "913bad51c8fe4edc8208527a7335aeb4"
            }
          },
          "metadata": {}
        },
        {
          "output_type": "display_data",
          "data": {
            "text/plain": [
              "Map:   0%|          | 0/952 [00:00<?, ? examples/s]"
            ],
            "application/vnd.jupyter.widget-view+json": {
              "version_major": 2,
              "version_minor": 0,
              "model_id": "e06413c2e35b4042b0bf750de2f1ed1b"
            }
          },
          "metadata": {}
        },
        {
          "output_type": "display_data",
          "data": {
            "text/plain": [
              "Map:   0%|          | 0/955 [00:00<?, ? examples/s]"
            ],
            "application/vnd.jupyter.widget-view+json": {
              "version_major": 2,
              "version_minor": 0,
              "model_id": "2b9c996bd47a4cc6aa8ccb3dd72dec52"
            }
          },
          "metadata": {}
        }
      ],
      "source": [
        "def add_embedding(example, idx):\n",
        "  example[\"id\"] = idx # adding the index to the dataset here\n",
        "  with torch.no_grad(): # pytorch likes to keep data about the model run, we will run out of memory if we leave this on.\n",
        "    example[\"embedding\"] = model(example[\"pixel_values\"].unsqueeze(0).to(device)) # analyze the image data, and copy the vector embedding back to system memory\n",
        "  return example\n",
        "\n",
        "\n",
        "updated_dataset = dataset.map(add_embedding, with_indices=True)"
      ]
    },
    {
      "cell_type": "markdown",
      "metadata": {
        "id": "bmB6jUqdKp4O"
      },
      "source": [
        "## Saving our embeddings to AstraDB\n",
        "\n",
        "This sets up our AstraDB database to store images in the 'images' table and creates a custom index to enable searching by vectors against the 'images' table."
      ]
    },
    {
      "cell_type": "code",
      "execution_count": null,
      "metadata": {
        "id": "dWVHfKriMrMH"
      },
      "outputs": [],
      "source": [
        "KEYSPACE_NAME = 'vsearch'\n",
        "TABLE_NAME = 'images'\n",
        "\n",
        "#session.execute(f\"DROP TABLE {KEYSPACE_NAME}.{TABLE_NAME}\")\n",
        "print(f\"Creating table {TABLE_NAME} in keyspace {KEYSPACE_NAME}\")\n",
        "session.execute(f\"CREATE TABLE IF NOT EXISTS {KEYSPACE_NAME}.{TABLE_NAME} (id int PRIMARY KEY,  image_vector VECTOR<FLOAT, 1000>)\")\n",
        "\n",
        "print(f\"Creating index ann_index on table {TABLE_NAME} and inserting example data\")\n",
        "session.execute(f\"CREATE CUSTOM INDEX IF NOT EXISTS ann_index ON {KEYSPACE_NAME}.{TABLE_NAME} (image_vector) USING 'StorageAttachedIndex'\")"
      ]
    },
    {
      "cell_type": "code",
      "execution_count": null,
      "metadata": {
        "id": "7lvV8pTJM2r1"
      },
      "outputs": [],
      "source": [
        "def insert_embedding(example):\n",
        "  id = example[\"id\"]\n",
        "  embedding = example[\"embedding\"][0]\n",
        "  session.execute(f\"INSERT INTO {KEYSPACE_NAME}.{TABLE_NAME}  (id, image_vector) VALUES ({id}, {embedding})\")\n",
        "  return example\n",
        "\n",
        "updated_dataset.map(insert_embedding)"
      ]
    },
    {
      "cell_type": "markdown",
      "metadata": {
        "id": "4MS92hW7Lkor"
      },
      "source": [
        "## Querying our data with another image\n",
        "\n",
        "Let's pretend to upload an image to your cool new image-to-image search app. Fortunately, we have a bunch of images that weren't embedded into our vector DB in our \"test\" and \"validate\" datasets. So we can pretend one of those images has been submitted by a user in order to query our vector db.\n",
        "\n",
        "We can grab an image from there, calculate it's embeddings and then ask the database for similar images.\n",
        "\n",
        "Our test set is 952 images, so set the 'search_id' below to some number between 0 and 952.\n",
        "\n"
      ]
    },
    {
      "cell_type": "code",
      "execution_count": null,
      "metadata": {
        "id": "20tGwI2vFJ93"
      },
      "outputs": [],
      "source": [
        "# our test dataset has 952 images, pick a number to try a different search\n",
        "search_id = 422 #@param {type:\"integer\"}\n",
        "\n",
        "# grab an image from out test set (remember, these images are not in our DB)\n",
        "img = updated_dataset[\"test\"][search_id]\n",
        "print(\"Searching for images like this one:\")\n",
        "display(img[\"image\"])\n",
        "embedding = img[\"embedding\"][0]\n",
        "\n",
        "images = []\n",
        "labels = []\n",
        "KEYSPACE_NAME = 'vsearch'\n",
        "TABLE_NAME = 'images'\n",
        "# use that embedding as a query\n",
        "print(f\"Returning 'nearest neighbor' using ANN search\")\n",
        "for row in session.execute(f\"SELECT id, image_vector FROM {KEYSPACE_NAME}.{TABLE_NAME} ORDER BY image_vector ANN OF {embedding} LIMIT 5\"):\n",
        "  image = updated_dataset[\"train\"][row.id]\n",
        "  images.append(image[\"image\"])\n",
        "  labels.append(row.id)\n",
        "\n",
        "#display our images in a pretty grid\n",
        "ipyplot.plot_images(images, labels, img_width=300)\n"
      ]
    },
    {
      "cell_type": "markdown",
      "metadata": {
        "id": "i09yEhKcVtFw"
      },
      "source": [
        "# Next Steps\n",
        "\n",
        "The road branches here, do you want to:\n",
        "\n",
        "* Learn more about vectors and what you can do with them?\n",
        "https://cloud.google.com/blog/topics/developers-practitioners/meet-ais-multitool-vector-embeddings\n",
        "\n",
        "* Coffee talk with data scientists (and understand some of the magic)?\n",
        "https://developers.google.com/machine-learning/crash-course/\n",
        "\n",
        "* Embed two sets of vectors into the same space? Ratings + Users anyone?\n",
        "https://cloud.google.com/blog/products/ai-machine-learning/scaling-deep-retrieval-tensorflow-two-towers-architecture\n",
        "\n",
        "* Learn about AstraDB/Apache Cassandra as a tool in awesome new Generative AI agents?\n",
        "https://cassio.org\n",
        "\n",
        "* Dig deeper into the ViT [Unofficial Walkthrough of Vision Transformer](https://colab.research.google.com/github/hirotomusiker/schwert_colab_data_storage/blob/master/notebook/Vision_Transformer_Tutorial.ipynb#scrollTo=y_uWXBvo1X1C)"
      ]
    }
  ],
  "metadata": {
    "colab": {
      "machine_shape": "hm",
      "provenance": [],
      "toc_visible": true
    },
    "kernelspec": {
      "display_name": "Python 3",
      "name": "python3"
    },
    "language_info": {
      "name": "python"
    },
    "widgets": {
      "application/vnd.jupyter.widget-state+json": {
        "913bad51c8fe4edc8208527a7335aeb4": {
          "model_module": "@jupyter-widgets/controls",
          "model_name": "HBoxModel",
          "model_module_version": "1.5.0",
          "state": {
            "_dom_classes": [],
            "_model_module": "@jupyter-widgets/controls",
            "_model_module_version": "1.5.0",
            "_model_name": "HBoxModel",
            "_view_count": null,
            "_view_module": "@jupyter-widgets/controls",
            "_view_module_version": "1.5.0",
            "_view_name": "HBoxView",
            "box_style": "",
            "children": [
              "IPY_MODEL_93a6333ad8754ed4bcc3a7c5d343483a",
              "IPY_MODEL_23db01edb6ea41e093f7d2609b8a4b08",
              "IPY_MODEL_44c6a9f4b6dc438e8b28f9d7c07f3ec4"
            ],
            "layout": "IPY_MODEL_269d11c877944733b1849726527efe4f"
          }
        },
        "93a6333ad8754ed4bcc3a7c5d343483a": {
          "model_module": "@jupyter-widgets/controls",
          "model_name": "HTMLModel",
          "model_module_version": "1.5.0",
          "state": {
            "_dom_classes": [],
            "_model_module": "@jupyter-widgets/controls",
            "_model_module_version": "1.5.0",
            "_model_name": "HTMLModel",
            "_view_count": null,
            "_view_module": "@jupyter-widgets/controls",
            "_view_module_version": "1.5.0",
            "_view_name": "HTMLView",
            "description": "",
            "description_tooltip": null,
            "layout": "IPY_MODEL_f582d18d1c954eba86b7fb6c061254fa",
            "placeholder": "​",
            "style": "IPY_MODEL_724f0b134b384283978de7fe37b55321",
            "value": "Map: 100%"
          }
        },
        "23db01edb6ea41e093f7d2609b8a4b08": {
          "model_module": "@jupyter-widgets/controls",
          "model_name": "FloatProgressModel",
          "model_module_version": "1.5.0",
          "state": {
            "_dom_classes": [],
            "_model_module": "@jupyter-widgets/controls",
            "_model_module_version": "1.5.0",
            "_model_name": "FloatProgressModel",
            "_view_count": null,
            "_view_module": "@jupyter-widgets/controls",
            "_view_module_version": "1.5.0",
            "_view_name": "ProgressView",
            "bar_style": "",
            "description": "",
            "description_tooltip": null,
            "layout": "IPY_MODEL_5873ea97b0b9481f97cdac790eaad28f",
            "max": 4838,
            "min": 0,
            "orientation": "horizontal",
            "style": "IPY_MODEL_061fa93251854196bc1dcec11ca4862d",
            "value": 4838
          }
        },
        "44c6a9f4b6dc438e8b28f9d7c07f3ec4": {
          "model_module": "@jupyter-widgets/controls",
          "model_name": "HTMLModel",
          "model_module_version": "1.5.0",
          "state": {
            "_dom_classes": [],
            "_model_module": "@jupyter-widgets/controls",
            "_model_module_version": "1.5.0",
            "_model_name": "HTMLModel",
            "_view_count": null,
            "_view_module": "@jupyter-widgets/controls",
            "_view_module_version": "1.5.0",
            "_view_name": "HTMLView",
            "description": "",
            "description_tooltip": null,
            "layout": "IPY_MODEL_53a2c12ef66640f394a30d8bd5feecbf",
            "placeholder": "​",
            "style": "IPY_MODEL_7f330b7e21b845e5be19f9b04aa5a129",
            "value": " 4834/4838 [01:32&lt;00:00, 68.69 examples/s]"
          }
        },
        "269d11c877944733b1849726527efe4f": {
          "model_module": "@jupyter-widgets/base",
          "model_name": "LayoutModel",
          "model_module_version": "1.2.0",
          "state": {
            "_model_module": "@jupyter-widgets/base",
            "_model_module_version": "1.2.0",
            "_model_name": "LayoutModel",
            "_view_count": null,
            "_view_module": "@jupyter-widgets/base",
            "_view_module_version": "1.2.0",
            "_view_name": "LayoutView",
            "align_content": null,
            "align_items": null,
            "align_self": null,
            "border": null,
            "bottom": null,
            "display": null,
            "flex": null,
            "flex_flow": null,
            "grid_area": null,
            "grid_auto_columns": null,
            "grid_auto_flow": null,
            "grid_auto_rows": null,
            "grid_column": null,
            "grid_gap": null,
            "grid_row": null,
            "grid_template_areas": null,
            "grid_template_columns": null,
            "grid_template_rows": null,
            "height": null,
            "justify_content": null,
            "justify_items": null,
            "left": null,
            "margin": null,
            "max_height": null,
            "max_width": null,
            "min_height": null,
            "min_width": null,
            "object_fit": null,
            "object_position": null,
            "order": null,
            "overflow": null,
            "overflow_x": null,
            "overflow_y": null,
            "padding": null,
            "right": null,
            "top": null,
            "visibility": "hidden",
            "width": null
          }
        },
        "f582d18d1c954eba86b7fb6c061254fa": {
          "model_module": "@jupyter-widgets/base",
          "model_name": "LayoutModel",
          "model_module_version": "1.2.0",
          "state": {
            "_model_module": "@jupyter-widgets/base",
            "_model_module_version": "1.2.0",
            "_model_name": "LayoutModel",
            "_view_count": null,
            "_view_module": "@jupyter-widgets/base",
            "_view_module_version": "1.2.0",
            "_view_name": "LayoutView",
            "align_content": null,
            "align_items": null,
            "align_self": null,
            "border": null,
            "bottom": null,
            "display": null,
            "flex": null,
            "flex_flow": null,
            "grid_area": null,
            "grid_auto_columns": null,
            "grid_auto_flow": null,
            "grid_auto_rows": null,
            "grid_column": null,
            "grid_gap": null,
            "grid_row": null,
            "grid_template_areas": null,
            "grid_template_columns": null,
            "grid_template_rows": null,
            "height": null,
            "justify_content": null,
            "justify_items": null,
            "left": null,
            "margin": null,
            "max_height": null,
            "max_width": null,
            "min_height": null,
            "min_width": null,
            "object_fit": null,
            "object_position": null,
            "order": null,
            "overflow": null,
            "overflow_x": null,
            "overflow_y": null,
            "padding": null,
            "right": null,
            "top": null,
            "visibility": null,
            "width": null
          }
        },
        "724f0b134b384283978de7fe37b55321": {
          "model_module": "@jupyter-widgets/controls",
          "model_name": "DescriptionStyleModel",
          "model_module_version": "1.5.0",
          "state": {
            "_model_module": "@jupyter-widgets/controls",
            "_model_module_version": "1.5.0",
            "_model_name": "DescriptionStyleModel",
            "_view_count": null,
            "_view_module": "@jupyter-widgets/base",
            "_view_module_version": "1.2.0",
            "_view_name": "StyleView",
            "description_width": ""
          }
        },
        "5873ea97b0b9481f97cdac790eaad28f": {
          "model_module": "@jupyter-widgets/base",
          "model_name": "LayoutModel",
          "model_module_version": "1.2.0",
          "state": {
            "_model_module": "@jupyter-widgets/base",
            "_model_module_version": "1.2.0",
            "_model_name": "LayoutModel",
            "_view_count": null,
            "_view_module": "@jupyter-widgets/base",
            "_view_module_version": "1.2.0",
            "_view_name": "LayoutView",
            "align_content": null,
            "align_items": null,
            "align_self": null,
            "border": null,
            "bottom": null,
            "display": null,
            "flex": null,
            "flex_flow": null,
            "grid_area": null,
            "grid_auto_columns": null,
            "grid_auto_flow": null,
            "grid_auto_rows": null,
            "grid_column": null,
            "grid_gap": null,
            "grid_row": null,
            "grid_template_areas": null,
            "grid_template_columns": null,
            "grid_template_rows": null,
            "height": null,
            "justify_content": null,
            "justify_items": null,
            "left": null,
            "margin": null,
            "max_height": null,
            "max_width": null,
            "min_height": null,
            "min_width": null,
            "object_fit": null,
            "object_position": null,
            "order": null,
            "overflow": null,
            "overflow_x": null,
            "overflow_y": null,
            "padding": null,
            "right": null,
            "top": null,
            "visibility": null,
            "width": null
          }
        },
        "061fa93251854196bc1dcec11ca4862d": {
          "model_module": "@jupyter-widgets/controls",
          "model_name": "ProgressStyleModel",
          "model_module_version": "1.5.0",
          "state": {
            "_model_module": "@jupyter-widgets/controls",
            "_model_module_version": "1.5.0",
            "_model_name": "ProgressStyleModel",
            "_view_count": null,
            "_view_module": "@jupyter-widgets/base",
            "_view_module_version": "1.2.0",
            "_view_name": "StyleView",
            "bar_color": null,
            "description_width": ""
          }
        },
        "53a2c12ef66640f394a30d8bd5feecbf": {
          "model_module": "@jupyter-widgets/base",
          "model_name": "LayoutModel",
          "model_module_version": "1.2.0",
          "state": {
            "_model_module": "@jupyter-widgets/base",
            "_model_module_version": "1.2.0",
            "_model_name": "LayoutModel",
            "_view_count": null,
            "_view_module": "@jupyter-widgets/base",
            "_view_module_version": "1.2.0",
            "_view_name": "LayoutView",
            "align_content": null,
            "align_items": null,
            "align_self": null,
            "border": null,
            "bottom": null,
            "display": null,
            "flex": null,
            "flex_flow": null,
            "grid_area": null,
            "grid_auto_columns": null,
            "grid_auto_flow": null,
            "grid_auto_rows": null,
            "grid_column": null,
            "grid_gap": null,
            "grid_row": null,
            "grid_template_areas": null,
            "grid_template_columns": null,
            "grid_template_rows": null,
            "height": null,
            "justify_content": null,
            "justify_items": null,
            "left": null,
            "margin": null,
            "max_height": null,
            "max_width": null,
            "min_height": null,
            "min_width": null,
            "object_fit": null,
            "object_position": null,
            "order": null,
            "overflow": null,
            "overflow_x": null,
            "overflow_y": null,
            "padding": null,
            "right": null,
            "top": null,
            "visibility": null,
            "width": null
          }
        },
        "7f330b7e21b845e5be19f9b04aa5a129": {
          "model_module": "@jupyter-widgets/controls",
          "model_name": "DescriptionStyleModel",
          "model_module_version": "1.5.0",
          "state": {
            "_model_module": "@jupyter-widgets/controls",
            "_model_module_version": "1.5.0",
            "_model_name": "DescriptionStyleModel",
            "_view_count": null,
            "_view_module": "@jupyter-widgets/base",
            "_view_module_version": "1.2.0",
            "_view_name": "StyleView",
            "description_width": ""
          }
        },
        "e06413c2e35b4042b0bf750de2f1ed1b": {
          "model_module": "@jupyter-widgets/controls",
          "model_name": "HBoxModel",
          "model_module_version": "1.5.0",
          "state": {
            "_dom_classes": [],
            "_model_module": "@jupyter-widgets/controls",
            "_model_module_version": "1.5.0",
            "_model_name": "HBoxModel",
            "_view_count": null,
            "_view_module": "@jupyter-widgets/controls",
            "_view_module_version": "1.5.0",
            "_view_name": "HBoxView",
            "box_style": "",
            "children": [
              "IPY_MODEL_596dfbcf4c2342599ba2be4e9e7f361b",
              "IPY_MODEL_785f072742e94dc3a7f59ce3da1ddcdd",
              "IPY_MODEL_ea51ef4ea6af4cd78241d4345e0bded1"
            ],
            "layout": "IPY_MODEL_4160850600f74231b9acd9c424fa1e60"
          }
        },
        "596dfbcf4c2342599ba2be4e9e7f361b": {
          "model_module": "@jupyter-widgets/controls",
          "model_name": "HTMLModel",
          "model_module_version": "1.5.0",
          "state": {
            "_dom_classes": [],
            "_model_module": "@jupyter-widgets/controls",
            "_model_module_version": "1.5.0",
            "_model_name": "HTMLModel",
            "_view_count": null,
            "_view_module": "@jupyter-widgets/controls",
            "_view_module_version": "1.5.0",
            "_view_name": "HTMLView",
            "description": "",
            "description_tooltip": null,
            "layout": "IPY_MODEL_3098780cb4c348e0a00bcf739316fe9b",
            "placeholder": "​",
            "style": "IPY_MODEL_c11169fe911a4e9d9e8fa63d942955c5",
            "value": "Map: 100%"
          }
        },
        "785f072742e94dc3a7f59ce3da1ddcdd": {
          "model_module": "@jupyter-widgets/controls",
          "model_name": "FloatProgressModel",
          "model_module_version": "1.5.0",
          "state": {
            "_dom_classes": [],
            "_model_module": "@jupyter-widgets/controls",
            "_model_module_version": "1.5.0",
            "_model_name": "FloatProgressModel",
            "_view_count": null,
            "_view_module": "@jupyter-widgets/controls",
            "_view_module_version": "1.5.0",
            "_view_name": "ProgressView",
            "bar_style": "",
            "description": "",
            "description_tooltip": null,
            "layout": "IPY_MODEL_99a75e2e28e341d5860b54f4a7b91771",
            "max": 952,
            "min": 0,
            "orientation": "horizontal",
            "style": "IPY_MODEL_769b18a9d51341dc950f53871d6af085",
            "value": 952
          }
        },
        "ea51ef4ea6af4cd78241d4345e0bded1": {
          "model_module": "@jupyter-widgets/controls",
          "model_name": "HTMLModel",
          "model_module_version": "1.5.0",
          "state": {
            "_dom_classes": [],
            "_model_module": "@jupyter-widgets/controls",
            "_model_module_version": "1.5.0",
            "_model_name": "HTMLModel",
            "_view_count": null,
            "_view_module": "@jupyter-widgets/controls",
            "_view_module_version": "1.5.0",
            "_view_name": "HTMLView",
            "description": "",
            "description_tooltip": null,
            "layout": "IPY_MODEL_2f2c6d02cf974db6abeab9d8781256a7",
            "placeholder": "​",
            "style": "IPY_MODEL_e67e6576faf3477fba118d9de8932023",
            "value": " 948/952 [00:14&lt;00:00, 66.95 examples/s]"
          }
        },
        "4160850600f74231b9acd9c424fa1e60": {
          "model_module": "@jupyter-widgets/base",
          "model_name": "LayoutModel",
          "model_module_version": "1.2.0",
          "state": {
            "_model_module": "@jupyter-widgets/base",
            "_model_module_version": "1.2.0",
            "_model_name": "LayoutModel",
            "_view_count": null,
            "_view_module": "@jupyter-widgets/base",
            "_view_module_version": "1.2.0",
            "_view_name": "LayoutView",
            "align_content": null,
            "align_items": null,
            "align_self": null,
            "border": null,
            "bottom": null,
            "display": null,
            "flex": null,
            "flex_flow": null,
            "grid_area": null,
            "grid_auto_columns": null,
            "grid_auto_flow": null,
            "grid_auto_rows": null,
            "grid_column": null,
            "grid_gap": null,
            "grid_row": null,
            "grid_template_areas": null,
            "grid_template_columns": null,
            "grid_template_rows": null,
            "height": null,
            "justify_content": null,
            "justify_items": null,
            "left": null,
            "margin": null,
            "max_height": null,
            "max_width": null,
            "min_height": null,
            "min_width": null,
            "object_fit": null,
            "object_position": null,
            "order": null,
            "overflow": null,
            "overflow_x": null,
            "overflow_y": null,
            "padding": null,
            "right": null,
            "top": null,
            "visibility": "hidden",
            "width": null
          }
        },
        "3098780cb4c348e0a00bcf739316fe9b": {
          "model_module": "@jupyter-widgets/base",
          "model_name": "LayoutModel",
          "model_module_version": "1.2.0",
          "state": {
            "_model_module": "@jupyter-widgets/base",
            "_model_module_version": "1.2.0",
            "_model_name": "LayoutModel",
            "_view_count": null,
            "_view_module": "@jupyter-widgets/base",
            "_view_module_version": "1.2.0",
            "_view_name": "LayoutView",
            "align_content": null,
            "align_items": null,
            "align_self": null,
            "border": null,
            "bottom": null,
            "display": null,
            "flex": null,
            "flex_flow": null,
            "grid_area": null,
            "grid_auto_columns": null,
            "grid_auto_flow": null,
            "grid_auto_rows": null,
            "grid_column": null,
            "grid_gap": null,
            "grid_row": null,
            "grid_template_areas": null,
            "grid_template_columns": null,
            "grid_template_rows": null,
            "height": null,
            "justify_content": null,
            "justify_items": null,
            "left": null,
            "margin": null,
            "max_height": null,
            "max_width": null,
            "min_height": null,
            "min_width": null,
            "object_fit": null,
            "object_position": null,
            "order": null,
            "overflow": null,
            "overflow_x": null,
            "overflow_y": null,
            "padding": null,
            "right": null,
            "top": null,
            "visibility": null,
            "width": null
          }
        },
        "c11169fe911a4e9d9e8fa63d942955c5": {
          "model_module": "@jupyter-widgets/controls",
          "model_name": "DescriptionStyleModel",
          "model_module_version": "1.5.0",
          "state": {
            "_model_module": "@jupyter-widgets/controls",
            "_model_module_version": "1.5.0",
            "_model_name": "DescriptionStyleModel",
            "_view_count": null,
            "_view_module": "@jupyter-widgets/base",
            "_view_module_version": "1.2.0",
            "_view_name": "StyleView",
            "description_width": ""
          }
        },
        "99a75e2e28e341d5860b54f4a7b91771": {
          "model_module": "@jupyter-widgets/base",
          "model_name": "LayoutModel",
          "model_module_version": "1.2.0",
          "state": {
            "_model_module": "@jupyter-widgets/base",
            "_model_module_version": "1.2.0",
            "_model_name": "LayoutModel",
            "_view_count": null,
            "_view_module": "@jupyter-widgets/base",
            "_view_module_version": "1.2.0",
            "_view_name": "LayoutView",
            "align_content": null,
            "align_items": null,
            "align_self": null,
            "border": null,
            "bottom": null,
            "display": null,
            "flex": null,
            "flex_flow": null,
            "grid_area": null,
            "grid_auto_columns": null,
            "grid_auto_flow": null,
            "grid_auto_rows": null,
            "grid_column": null,
            "grid_gap": null,
            "grid_row": null,
            "grid_template_areas": null,
            "grid_template_columns": null,
            "grid_template_rows": null,
            "height": null,
            "justify_content": null,
            "justify_items": null,
            "left": null,
            "margin": null,
            "max_height": null,
            "max_width": null,
            "min_height": null,
            "min_width": null,
            "object_fit": null,
            "object_position": null,
            "order": null,
            "overflow": null,
            "overflow_x": null,
            "overflow_y": null,
            "padding": null,
            "right": null,
            "top": null,
            "visibility": null,
            "width": null
          }
        },
        "769b18a9d51341dc950f53871d6af085": {
          "model_module": "@jupyter-widgets/controls",
          "model_name": "ProgressStyleModel",
          "model_module_version": "1.5.0",
          "state": {
            "_model_module": "@jupyter-widgets/controls",
            "_model_module_version": "1.5.0",
            "_model_name": "ProgressStyleModel",
            "_view_count": null,
            "_view_module": "@jupyter-widgets/base",
            "_view_module_version": "1.2.0",
            "_view_name": "StyleView",
            "bar_color": null,
            "description_width": ""
          }
        },
        "2f2c6d02cf974db6abeab9d8781256a7": {
          "model_module": "@jupyter-widgets/base",
          "model_name": "LayoutModel",
          "model_module_version": "1.2.0",
          "state": {
            "_model_module": "@jupyter-widgets/base",
            "_model_module_version": "1.2.0",
            "_model_name": "LayoutModel",
            "_view_count": null,
            "_view_module": "@jupyter-widgets/base",
            "_view_module_version": "1.2.0",
            "_view_name": "LayoutView",
            "align_content": null,
            "align_items": null,
            "align_self": null,
            "border": null,
            "bottom": null,
            "display": null,
            "flex": null,
            "flex_flow": null,
            "grid_area": null,
            "grid_auto_columns": null,
            "grid_auto_flow": null,
            "grid_auto_rows": null,
            "grid_column": null,
            "grid_gap": null,
            "grid_row": null,
            "grid_template_areas": null,
            "grid_template_columns": null,
            "grid_template_rows": null,
            "height": null,
            "justify_content": null,
            "justify_items": null,
            "left": null,
            "margin": null,
            "max_height": null,
            "max_width": null,
            "min_height": null,
            "min_width": null,
            "object_fit": null,
            "object_position": null,
            "order": null,
            "overflow": null,
            "overflow_x": null,
            "overflow_y": null,
            "padding": null,
            "right": null,
            "top": null,
            "visibility": null,
            "width": null
          }
        },
        "e67e6576faf3477fba118d9de8932023": {
          "model_module": "@jupyter-widgets/controls",
          "model_name": "DescriptionStyleModel",
          "model_module_version": "1.5.0",
          "state": {
            "_model_module": "@jupyter-widgets/controls",
            "_model_module_version": "1.5.0",
            "_model_name": "DescriptionStyleModel",
            "_view_count": null,
            "_view_module": "@jupyter-widgets/base",
            "_view_module_version": "1.2.0",
            "_view_name": "StyleView",
            "description_width": ""
          }
        },
        "2b9c996bd47a4cc6aa8ccb3dd72dec52": {
          "model_module": "@jupyter-widgets/controls",
          "model_name": "HBoxModel",
          "model_module_version": "1.5.0",
          "state": {
            "_dom_classes": [],
            "_model_module": "@jupyter-widgets/controls",
            "_model_module_version": "1.5.0",
            "_model_name": "HBoxModel",
            "_view_count": null,
            "_view_module": "@jupyter-widgets/controls",
            "_view_module_version": "1.5.0",
            "_view_name": "HBoxView",
            "box_style": "",
            "children": [
              "IPY_MODEL_60660805538043c3ad2f8eaaaa17aa0e",
              "IPY_MODEL_00b1fc23bedf4e1f983f56ceccc9c148",
              "IPY_MODEL_2b7aa88ffc1d47d89237c469833e8ad2"
            ],
            "layout": "IPY_MODEL_40a2328c2176437a80b038a44eeb588e"
          }
        },
        "60660805538043c3ad2f8eaaaa17aa0e": {
          "model_module": "@jupyter-widgets/controls",
          "model_name": "HTMLModel",
          "model_module_version": "1.5.0",
          "state": {
            "_dom_classes": [],
            "_model_module": "@jupyter-widgets/controls",
            "_model_module_version": "1.5.0",
            "_model_name": "HTMLModel",
            "_view_count": null,
            "_view_module": "@jupyter-widgets/controls",
            "_view_module_version": "1.5.0",
            "_view_name": "HTMLView",
            "description": "",
            "description_tooltip": null,
            "layout": "IPY_MODEL_c177f88508ae48bc9d5b11bd35b8e19a",
            "placeholder": "​",
            "style": "IPY_MODEL_b04b00e8ce56498a8989c3702c4f98d4",
            "value": "Map: 100%"
          }
        },
        "00b1fc23bedf4e1f983f56ceccc9c148": {
          "model_module": "@jupyter-widgets/controls",
          "model_name": "FloatProgressModel",
          "model_module_version": "1.5.0",
          "state": {
            "_dom_classes": [],
            "_model_module": "@jupyter-widgets/controls",
            "_model_module_version": "1.5.0",
            "_model_name": "FloatProgressModel",
            "_view_count": null,
            "_view_module": "@jupyter-widgets/controls",
            "_view_module_version": "1.5.0",
            "_view_name": "ProgressView",
            "bar_style": "",
            "description": "",
            "description_tooltip": null,
            "layout": "IPY_MODEL_8e99124e4eeb44afb9355c24e0406fba",
            "max": 955,
            "min": 0,
            "orientation": "horizontal",
            "style": "IPY_MODEL_1347d234e4c04ee887a4e446ed4e46a1",
            "value": 955
          }
        },
        "2b7aa88ffc1d47d89237c469833e8ad2": {
          "model_module": "@jupyter-widgets/controls",
          "model_name": "HTMLModel",
          "model_module_version": "1.5.0",
          "state": {
            "_dom_classes": [],
            "_model_module": "@jupyter-widgets/controls",
            "_model_module_version": "1.5.0",
            "_model_name": "HTMLModel",
            "_view_count": null,
            "_view_module": "@jupyter-widgets/controls",
            "_view_module_version": "1.5.0",
            "_view_name": "HTMLView",
            "description": "",
            "description_tooltip": null,
            "layout": "IPY_MODEL_da5f298b8e72402b9b9e47d69245375f",
            "placeholder": "​",
            "style": "IPY_MODEL_80737d74db254139b6183b3e2dfb99f9",
            "value": " 955/955 [00:14&lt;00:00, 67.36 examples/s]"
          }
        },
        "40a2328c2176437a80b038a44eeb588e": {
          "model_module": "@jupyter-widgets/base",
          "model_name": "LayoutModel",
          "model_module_version": "1.2.0",
          "state": {
            "_model_module": "@jupyter-widgets/base",
            "_model_module_version": "1.2.0",
            "_model_name": "LayoutModel",
            "_view_count": null,
            "_view_module": "@jupyter-widgets/base",
            "_view_module_version": "1.2.0",
            "_view_name": "LayoutView",
            "align_content": null,
            "align_items": null,
            "align_self": null,
            "border": null,
            "bottom": null,
            "display": null,
            "flex": null,
            "flex_flow": null,
            "grid_area": null,
            "grid_auto_columns": null,
            "grid_auto_flow": null,
            "grid_auto_rows": null,
            "grid_column": null,
            "grid_gap": null,
            "grid_row": null,
            "grid_template_areas": null,
            "grid_template_columns": null,
            "grid_template_rows": null,
            "height": null,
            "justify_content": null,
            "justify_items": null,
            "left": null,
            "margin": null,
            "max_height": null,
            "max_width": null,
            "min_height": null,
            "min_width": null,
            "object_fit": null,
            "object_position": null,
            "order": null,
            "overflow": null,
            "overflow_x": null,
            "overflow_y": null,
            "padding": null,
            "right": null,
            "top": null,
            "visibility": "hidden",
            "width": null
          }
        },
        "c177f88508ae48bc9d5b11bd35b8e19a": {
          "model_module": "@jupyter-widgets/base",
          "model_name": "LayoutModel",
          "model_module_version": "1.2.0",
          "state": {
            "_model_module": "@jupyter-widgets/base",
            "_model_module_version": "1.2.0",
            "_model_name": "LayoutModel",
            "_view_count": null,
            "_view_module": "@jupyter-widgets/base",
            "_view_module_version": "1.2.0",
            "_view_name": "LayoutView",
            "align_content": null,
            "align_items": null,
            "align_self": null,
            "border": null,
            "bottom": null,
            "display": null,
            "flex": null,
            "flex_flow": null,
            "grid_area": null,
            "grid_auto_columns": null,
            "grid_auto_flow": null,
            "grid_auto_rows": null,
            "grid_column": null,
            "grid_gap": null,
            "grid_row": null,
            "grid_template_areas": null,
            "grid_template_columns": null,
            "grid_template_rows": null,
            "height": null,
            "justify_content": null,
            "justify_items": null,
            "left": null,
            "margin": null,
            "max_height": null,
            "max_width": null,
            "min_height": null,
            "min_width": null,
            "object_fit": null,
            "object_position": null,
            "order": null,
            "overflow": null,
            "overflow_x": null,
            "overflow_y": null,
            "padding": null,
            "right": null,
            "top": null,
            "visibility": null,
            "width": null
          }
        },
        "b04b00e8ce56498a8989c3702c4f98d4": {
          "model_module": "@jupyter-widgets/controls",
          "model_name": "DescriptionStyleModel",
          "model_module_version": "1.5.0",
          "state": {
            "_model_module": "@jupyter-widgets/controls",
            "_model_module_version": "1.5.0",
            "_model_name": "DescriptionStyleModel",
            "_view_count": null,
            "_view_module": "@jupyter-widgets/base",
            "_view_module_version": "1.2.0",
            "_view_name": "StyleView",
            "description_width": ""
          }
        },
        "8e99124e4eeb44afb9355c24e0406fba": {
          "model_module": "@jupyter-widgets/base",
          "model_name": "LayoutModel",
          "model_module_version": "1.2.0",
          "state": {
            "_model_module": "@jupyter-widgets/base",
            "_model_module_version": "1.2.0",
            "_model_name": "LayoutModel",
            "_view_count": null,
            "_view_module": "@jupyter-widgets/base",
            "_view_module_version": "1.2.0",
            "_view_name": "LayoutView",
            "align_content": null,
            "align_items": null,
            "align_self": null,
            "border": null,
            "bottom": null,
            "display": null,
            "flex": null,
            "flex_flow": null,
            "grid_area": null,
            "grid_auto_columns": null,
            "grid_auto_flow": null,
            "grid_auto_rows": null,
            "grid_column": null,
            "grid_gap": null,
            "grid_row": null,
            "grid_template_areas": null,
            "grid_template_columns": null,
            "grid_template_rows": null,
            "height": null,
            "justify_content": null,
            "justify_items": null,
            "left": null,
            "margin": null,
            "max_height": null,
            "max_width": null,
            "min_height": null,
            "min_width": null,
            "object_fit": null,
            "object_position": null,
            "order": null,
            "overflow": null,
            "overflow_x": null,
            "overflow_y": null,
            "padding": null,
            "right": null,
            "top": null,
            "visibility": null,
            "width": null
          }
        },
        "1347d234e4c04ee887a4e446ed4e46a1": {
          "model_module": "@jupyter-widgets/controls",
          "model_name": "ProgressStyleModel",
          "model_module_version": "1.5.0",
          "state": {
            "_model_module": "@jupyter-widgets/controls",
            "_model_module_version": "1.5.0",
            "_model_name": "ProgressStyleModel",
            "_view_count": null,
            "_view_module": "@jupyter-widgets/base",
            "_view_module_version": "1.2.0",
            "_view_name": "StyleView",
            "bar_color": null,
            "description_width": ""
          }
        },
        "da5f298b8e72402b9b9e47d69245375f": {
          "model_module": "@jupyter-widgets/base",
          "model_name": "LayoutModel",
          "model_module_version": "1.2.0",
          "state": {
            "_model_module": "@jupyter-widgets/base",
            "_model_module_version": "1.2.0",
            "_model_name": "LayoutModel",
            "_view_count": null,
            "_view_module": "@jupyter-widgets/base",
            "_view_module_version": "1.2.0",
            "_view_name": "LayoutView",
            "align_content": null,
            "align_items": null,
            "align_self": null,
            "border": null,
            "bottom": null,
            "display": null,
            "flex": null,
            "flex_flow": null,
            "grid_area": null,
            "grid_auto_columns": null,
            "grid_auto_flow": null,
            "grid_auto_rows": null,
            "grid_column": null,
            "grid_gap": null,
            "grid_row": null,
            "grid_template_areas": null,
            "grid_template_columns": null,
            "grid_template_rows": null,
            "height": null,
            "justify_content": null,
            "justify_items": null,
            "left": null,
            "margin": null,
            "max_height": null,
            "max_width": null,
            "min_height": null,
            "min_width": null,
            "object_fit": null,
            "object_position": null,
            "order": null,
            "overflow": null,
            "overflow_x": null,
            "overflow_y": null,
            "padding": null,
            "right": null,
            "top": null,
            "visibility": null,
            "width": null
          }
        },
        "80737d74db254139b6183b3e2dfb99f9": {
          "model_module": "@jupyter-widgets/controls",
          "model_name": "DescriptionStyleModel",
          "model_module_version": "1.5.0",
          "state": {
            "_model_module": "@jupyter-widgets/controls",
            "_model_module_version": "1.5.0",
            "_model_name": "DescriptionStyleModel",
            "_view_count": null,
            "_view_module": "@jupyter-widgets/base",
            "_view_module_version": "1.2.0",
            "_view_name": "StyleView",
            "description_width": ""
          }
        }
      }
    }
  },
  "nbformat": 4,
  "nbformat_minor": 0
}